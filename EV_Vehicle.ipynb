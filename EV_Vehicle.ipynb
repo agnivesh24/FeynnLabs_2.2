{
 "cells": [
  {
   "cell_type": "code",
   "execution_count": 16,
   "id": "0b151c65-b14e-4edf-b2d7-e13403e296d7",
   "metadata": {},
   "outputs": [],
   "source": [
    "import pandas as pd\n",
    "from sklearn.preprocessing import StandardScaler, LabelEncoder\n",
    "from sklearn.cluster import KMeans\n",
    "from sklearn.impute import SimpleImputer\n",
    "import matplotlib.pyplot as plt"
   ]
  },
  {
   "cell_type": "code",
   "execution_count": 17,
   "id": "192616bc-bd16-4044-b645-a74390f34457",
   "metadata": {},
   "outputs": [],
   "source": [
    "def preprocess_dataset2(dataset):\n",
    "    imputer = SimpleImputer(strategy='most_frequent')\n",
    "    dataset = pd.DataFrame(imputer.fit_transform(dataset), columns=dataset.columns)\n",
    "    categorical_columns = ['State', 'Direction']\n",
    "    encoder = LabelEncoder()\n",
    "    for col in categorical_columns:\n",
    "        dataset[col] = encoder.fit_transform(dataset[col].astype(str))\n",
    "    numerical_columns = ['Two Wheelers', 'Three Wheelers', 'Four Wheelers', 'Power Station']\n",
    "    scaler = StandardScaler()\n",
    "    scaled_data = scaler.fit_transform(dataset[numerical_columns])\n",
    "    return scaled_data"
   ]
  },
  {
   "cell_type": "code",
   "execution_count": 18,
   "id": "0d7b735d-e6b9-45c7-84c3-a8cf46dab3a8",
   "metadata": {},
   "outputs": [],
   "source": [
    "def find_optimal_clusters(data, max_k=6, max_iter=100):\n",
    "    distortions = []\n",
    "    for k in range(1, max_k + 1):\n",
    "        kmeans = KMeans(n_clusters=k, random_state=42, n_init=10, max_iter=max_iter)\n",
    "        kmeans.fit(data)\n",
    "        distortions.append(kmeans.inertia_)\n",
    "    return distortions"
   ]
  },
  {
   "cell_type": "code",
   "execution_count": 19,
   "id": "c4d7b44f-aead-406d-81b8-1c5be4aa9965",
   "metadata": {},
   "outputs": [],
   "source": [
    "def plot_elbow(distortions, max_k, dataset_name):\n",
    "    plt.plot(range(1, max_k + 1), distortions, marker='o')\n",
    "    plt.title(f'Elbow Method for {dataset_name}')\n",
    "    plt.xlabel('Number of Clusters')\n",
    "    plt.ylabel('Distortion')\n",
    "    plt.show()"
   ]
  },
  {
   "cell_type": "code",
   "execution_count": 20,
   "id": "742e415a-3156-44ea-a4ce-a33dadcc67a7",
   "metadata": {},
   "outputs": [],
   "source": [
    "file2_path = 'ev_vehicle.csv'\n",
    "dataset2 = pd.read_csv(file2_path)"
   ]
  },
  {
   "cell_type": "code",
   "execution_count": 21,
   "id": "83fa3939-c692-4011-8a51-b78e47f071b6",
   "metadata": {},
   "outputs": [
    {
     "name": "stderr",
     "output_type": "stream",
     "text": [
      "E:\\Anaconda\\Lib\\site-packages\\sklearn\\cluster\\_kmeans.py:1382: UserWarning: KMeans is known to have a memory leak on Windows with MKL, when there are less chunks than available threads. You can avoid it by setting the environment variable OMP_NUM_THREADS=1.\n",
      "  warnings.warn(\n",
      "E:\\Anaconda\\Lib\\site-packages\\sklearn\\cluster\\_kmeans.py:1382: UserWarning: KMeans is known to have a memory leak on Windows with MKL, when there are less chunks than available threads. You can avoid it by setting the environment variable OMP_NUM_THREADS=1.\n",
      "  warnings.warn(\n",
      "E:\\Anaconda\\Lib\\site-packages\\sklearn\\cluster\\_kmeans.py:1382: UserWarning: KMeans is known to have a memory leak on Windows with MKL, when there are less chunks than available threads. You can avoid it by setting the environment variable OMP_NUM_THREADS=1.\n",
      "  warnings.warn(\n",
      "E:\\Anaconda\\Lib\\site-packages\\sklearn\\cluster\\_kmeans.py:1382: UserWarning: KMeans is known to have a memory leak on Windows with MKL, when there are less chunks than available threads. You can avoid it by setting the environment variable OMP_NUM_THREADS=1.\n",
      "  warnings.warn(\n",
      "E:\\Anaconda\\Lib\\site-packages\\sklearn\\cluster\\_kmeans.py:1382: UserWarning: KMeans is known to have a memory leak on Windows with MKL, when there are less chunks than available threads. You can avoid it by setting the environment variable OMP_NUM_THREADS=1.\n",
      "  warnings.warn(\n",
      "E:\\Anaconda\\Lib\\site-packages\\sklearn\\cluster\\_kmeans.py:1382: UserWarning: KMeans is known to have a memory leak on Windows with MKL, when there are less chunks than available threads. You can avoid it by setting the environment variable OMP_NUM_THREADS=1.\n",
      "  warnings.warn(\n"
     ]
    }
   ],
   "source": [
    "processed_data2 = preprocess_dataset2(dataset2)\n",
    "distortions2 = find_optimal_clusters(processed_data2, max_k=6)"
   ]
  },
  {
   "cell_type": "code",
   "execution_count": 22,
   "id": "be7a3692-3500-49eb-8830-9831f1f2c9a3",
   "metadata": {},
   "outputs": [
    {
     "data": {
      "image/png": "[encoded data removed]",
      "text/plain": [
       "<Figure size 640x480 with 1 Axes>"
      ]
     },
     "metadata": {},
     "output_type": "display_data"
    }
   ],
   "source": [
    "plot_elbow(distortions2, 6, \"Dataset 2\")"
   ]
  },
  {
   "cell_type": "code",
   "execution_count": 23,
   "id": "30fda676-c737-4d3d-ad8d-45e446d60f94",
   "metadata": {},
   "outputs": [
    {
     "data": {
      "text/plain": [
       "array([[-0.50155683, -0.503545  , -0.56275062, -0.60171805, -0.34348626,\n",
       "        -0.54417573],\n",
       "       [-1.50467048, -0.503545  , -0.67150707, -0.65368584, -0.34348626,\n",
       "        -0.59523533],\n",
       "       [-0.68394113, -0.503545  , -0.63300378, -0.5847983 , -0.34348626,\n",
       "        -0.510136  ],\n",
       "       [ 1.23109403, -0.503545  , -0.66883201, -0.64442027, -0.34348626,\n",
       "        -0.49311614],\n",
       "       [-0.13678823, -0.503545  , -0.67067385, -0.65408869, -0.34348626,\n",
       "        -0.32291747],\n",
       "       [ 0.77513328, -0.503545  , -0.30423479, -0.54894455, -0.33591237,\n",
       "        -0.44205654],\n",
       "       [-0.77513328, -0.503545  , -0.11654221, -0.5682814 ,  0.34321333,\n",
       "         0.3068176 ],\n",
       "       [-1.23109403, -0.503545  , -0.6442741 , -0.62347201, -0.34348626,\n",
       "        -0.52715587],\n",
       "       [-1.04870973, -0.503545  ,  0.65821593,  3.12384921,  5.3091622 ,\n",
       "         4.85112198],\n",
       "       [ 1.50467048, -0.503545  , -0.48346366,  0.46946311, -0.29046901,\n",
       "        -0.52715587],\n",
       "       [ 0.86632543,  1.5466025 ,  1.18875445,  0.09400586, -0.2727966 ,\n",
       "        -0.16973867],\n",
       "       [-0.86632543,  1.5466025 ,  1.31763961, -0.23069216, -0.17686063,\n",
       "        -0.16973867],\n",
       "       [ 0.13678823,  1.5466025 ,  3.36169075,  0.3961442 ,  0.87591044,\n",
       "         0.86847319],\n",
       "       [-0.95751758,  1.5466025 , -0.52451045, -0.64079461, -0.338437  ,\n",
       "         0.22171826],\n",
       "       [ 1.41347833, -1.87031   ,  0.28638289,  3.89128062, -0.27532123,\n",
       "         1.20887053],\n",
       "       [ 0.04559608, -1.87031   ,  0.09215616,  0.802621  , -0.3056168 ,\n",
       "        -0.16973867],\n",
       "       [-1.32228618, -1.1869275 , -0.27195868,  1.4620883 , -0.338437  ,\n",
       "        -0.57821547],\n",
       "       [-0.41036468, -1.1869275 , -0.43763685, -0.2822571 , -0.20968083,\n",
       "        -0.510136  ],\n",
       "       [-1.13990188, -1.1869275 , -0.1660527 ,  0.4489177 , -0.30814143,\n",
       "        -0.5611956 ],\n",
       "       [ 0.59274898, -1.1869275 ,  0.15591901, -0.32576502, -0.26522271,\n",
       "        -0.59523533],\n",
       "       [ 1.59586263, -1.1869275 , -0.3932572 , -0.20088117, -0.16423747,\n",
       "        -0.254838  ],\n",
       "       [-1.68705478, -1.1869275 , -0.67146321, -0.65408869, -0.338437  ,\n",
       "         0.56211559],\n",
       "       [ 1.13990188,  0.86322   ,  0.35005804, -0.02564093,  0.22455568,\n",
       "         0.47701626],\n",
       "       [-0.31917253,  0.86322   ,  3.00529411,  1.08219968,  1.90595982,\n",
       "         0.3578772 ],\n",
       "       [-1.59586263,  0.86322   ,  0.3173434 ,  0.24426933, -0.338437  ,\n",
       "         1.71946652],\n",
       "       [ 0.68394113,  0.86322   , -0.62712742, -0.65006018, -0.33086311,\n",
       "        -0.6122552 ],\n",
       "       [-0.22798038,  0.86322   ,  0.3115986 ,  0.34860777, -0.31571532,\n",
       "         0.34085733],\n",
       "       [ 1.04870973,  0.86322   ,  2.1787451 ,  0.08151747, -0.30814143,\n",
       "         0.97059239],\n",
       "       [-0.04559608,  0.86322   , -0.67137551, -0.65328299, -0.34348626,\n",
       "        -0.54417573],\n",
       "       [ 0.31917253,  0.1798375 , -0.67058615, -0.65006018, -0.34348626,\n",
       "        -0.6122552 ],\n",
       "       [-1.41347833,  0.1798375 , -0.60379741, -0.16905593, -0.34096163,\n",
       "        -0.510136  ],\n",
       "       [ 0.50155683,  0.1798375 , -0.67137551, -0.65408869, -0.34348626,\n",
       "        -0.59523533],\n",
       "       [ 0.22798038,  0.1798375 , -0.66918284, -0.57190706, -0.34348626,\n",
       "        -0.6122552 ],\n",
       "       [ 1.32228618,  0.1798375 , -0.66624466,  0.04445517, -0.34348626,\n",
       "        -0.59523533],\n",
       "       [ 0.41036468,  0.1798375 , -0.67115624, -0.65408869, -0.34348626,\n",
       "        -0.49311614],\n",
       "       [ 0.95751758,  0.1798375 , -0.67133165, -0.65368584, -0.34348626,\n",
       "        -0.5611956 ],\n",
       "       [-0.59274898,  0.1798375 , -0.08145948, -0.59366102,  1.06020849,\n",
       "         0.22171826],\n",
       "       [ 1.68705478,  2.229985  ,         nan,         nan,         nan,\n",
       "                nan]])"
      ]
     },
     "execution_count": 23,
     "metadata": {},
     "output_type": "execute_result"
    }
   ],
   "source": [
    "from sklearn.impute import SimpleImputer\n",
    "from sklearn.preprocessing import LabelEncoder, StandardScaler\n",
    "\n",
    "def preprocess_data_with_missing_values(dataset, categorical_columns):\n",
    "    # Handle missing values\n",
    "    imputer = SimpleImputer(strategy='most_frequent')  # Use 'mean' for numerical-only data\n",
    "    dataset = pd.DataFrame(imputer.fit_transform(dataset), columns=dataset.columns)\n",
    "    \n",
    "    # Encode categorical columns\n",
    "    encoder = LabelEncoder()\n",
    "    for col in categorical_columns:\n",
    "        dataset[col] = encoder.fit_transform(dataset[col].astype(str))\n",
    "    \n",
    "    # Scale the entire dataset\n",
    "    scaler = StandardScaler()\n",
    "    numerical_data = scaler.fit_transform(dataset)\n",
    "    return numerical_data\n",
    "\n",
    "categorical_columns = ['State', 'Direction']\n",
    "preprocess_data_with_categoricals(dataset2, categorical_columns)"
   ]
  },
  {
   "cell_type": "code",
   "execution_count": null,
   "id": "57063257-9da4-4b42-a937-5aa9b21774f2",
   "metadata": {},
   "outputs": [],
   "source": []
  },
  {
   "cell_type": "code",
   "execution_count": null,
   "id": "f9845716-2349-4bc7-a301-bebdd613cf3b",
   "metadata": {},
   "outputs": [],
   "source": []
  }
 ],
 "metadata": {
  "kernelspec": {
   "display_name": "Python 3 (ipykernel)",
   "language": "python",
   "name": "python3"
  },
  "language_info": {
   "codemirror_mode": {
    "name": "ipython",
    "version": 3
   },
   "file_extension": ".py",
   "mimetype": "text/x-python",
   "name": "python",
   "nbconvert_exporter": "python",
   "pygments_lexer": "ipython3",
   "version": "3.11.7"
  }
 },
 "nbformat": 4,
 "nbformat_minor": 5
}
